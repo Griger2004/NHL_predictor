{
 "cells": [
  {
   "cell_type": "markdown",
   "id": "c72ad4ec-cd5a-436b-a536-9b702f6b158c",
   "metadata": {},
   "source": [
    "# NHL DATA SCRAPER v.2.0"
   ]
  },
  {
   "cell_type": "markdown",
   "id": "afaaca5d",
   "metadata": {},
   "source": [
    "### Step 1\n",
    "Import all required modules"
   ]
  },
  {
   "cell_type": "code",
   "execution_count": 52,
   "id": "ec5b133b",
   "metadata": {},
   "outputs": [],
   "source": [
    "import os\n",
    "import time\n",
    "import pandas as pd\n",
    "import numpy as np\n",
    "from selenium import webdriver\n",
    "from selenium.webdriver.common.by import By\n",
    "from selenium.webdriver.chrome.service import Service\n",
    "from selenium.webdriver.chrome.options import Options\n",
    "from selenium.webdriver.support.ui import WebDriverWait\n",
    "from selenium.webdriver.support import expected_conditions as EC"
   ]
  },
  {
   "cell_type": "markdown",
   "id": "3990e438",
   "metadata": {},
   "source": []
  },
  {
   "cell_type": "markdown",
   "id": "1c001e95",
   "metadata": {},
   "source": [
    "### Step 2\n",
    "1. Global variables\n",
    "2. Set up chrome options for automatic download"
   ]
  },
  {
   "cell_type": "code",
   "execution_count": 78,
   "id": "926c5126",
   "metadata": {},
   "outputs": [],
   "source": [
    "DOWNLOADS_PATH = 'C:\\\\Users\\\\riger\\\\Downloads'\n",
    "SCRIPT_PATH = os.getcwd()\n",
    "NHL_STATS_CSV_PATH = os.path.join(SCRIPT_PATH, './generated/nhl_stats_data.csv')\n",
    "NHL_GOALIE_CSV_PATH = os.path.join(SCRIPT_PATH, './generated/nhl_goalie_data.csv')\n",
    "COMBINED_CSV_PATH = os.path.join(SCRIPT_PATH, './generated/final_nhl_stats.csv')\n",
    "BASE_STATS_URL = 'https://www.nhl.com/stats/teams?aggregate=0&report=daysbetweengames&reportType=game&seasonFrom=20212022&seasonTo=20242025&dateFromSeason&gameType=2&homeRoad=H&sort=a_gameDate&page={}&pageSize=100'\n",
    "BASE_GOALIE_URL = 'https://www.nhl.com/stats/goalies?aggregate=0&reportType=game&seasonFrom=20212022&seasonTo=20242025&dateFromSeason&gameType=2&homeRoad=H&sort=a_gameDate&page={}&pageSize=100'"
   ]
  },
  {
   "cell_type": "code",
   "execution_count": 54,
   "id": "d45c0e4d",
   "metadata": {},
   "outputs": [],
   "source": [
    "chrome_options = Options()\n",
    "chrome_options.add_experimental_option('prefs', {\n",
    "    'download.default_directory': DOWNLOADS_PATH,\n",
    "    'download.prompt_for_download': False,\n",
    "    'download.directory_upgrade': True,\n",
    "    'safebrowsing.enabled': True\n",
    "})"
   ]
  },
  {
   "cell_type": "markdown",
   "id": "990d859d",
   "metadata": {},
   "source": [
    "### Step 4\n",
    "Start scraping stats\n",
    "- This will open every page from 0 to 52\n",
    "- It will download the csv to your downloads folder, read it, and save/concat it to the 'data' pandas df\n",
    "- Finally, remove the downloaded file\n",
    "- Repeat with all pages"
   ]
  },
  {
   "cell_type": "code",
   "execution_count": 55,
   "id": "7e0d8814",
   "metadata": {},
   "outputs": [],
   "source": [
    "#Driver setup\n",
    "\n",
    "service = Service('chromedriver.exe')\n",
    "driver = webdriver.Chrome(service=service, options=chrome_options)\n",
    "driver.maximize_window()"
   ]
  },
  {
   "cell_type": "code",
   "execution_count": 56,
   "id": "e7f13d89",
   "metadata": {},
   "outputs": [],
   "source": [
    "# try:\n",
    "#     # Create csv directory if doesn't exist (will be used at the end)\n",
    "#     if not os.path.exists(NHL_STATS_CSV_PATH):\n",
    "#         os.makedirs('generated', exist_ok=True)  # create 'generated' folder if needed\n",
    "        \n",
    "#         with open(NHL_STATS_CSV_PATH, 'w') as f:\n",
    "#             f.write(\"\")\n",
    "#             print(\"Created file:\", NHL_STATS_CSV_PATH)\n",
    "\n",
    "#     combined_data = pd.DataFrame()\n",
    "\n",
    "#     for page in range(0, 53):\n",
    "#         url = BASE_STATS_URL.format(page)\n",
    "#         driver.get(url)\n",
    "\n",
    "#         # Wait for the export link to be present and clickable\n",
    "#         export_link = WebDriverWait(driver, 20).until(\n",
    "#             EC.element_to_be_clickable((By.XPATH, '/html/body/div[1]/main/div/div/div/div[2]/div/div[2]/div/main/div[2]/h4/a'))\n",
    "#         )\n",
    "\n",
    "#         # Scroll to the element\n",
    "#         driver.execute_script(\"arguments[0].scrollIntoView(true);\", export_link)\n",
    "#         export_link.click()\n",
    "#         time.sleep(5)  # Wait for the file to download\n",
    "\n",
    "#         # Process the downloaded file\n",
    "#         downloaded_file = os.path.join(DOWNLOADS_PATH, 'Days between Games.xlsx')\n",
    "#         if os.path.exists(downloaded_file):\n",
    "#             data = pd.read_excel(downloaded_file)\n",
    "#             combined_data = pd.concat([combined_data, data], ignore_index=True)\n",
    "#             os.remove(downloaded_file)  # Remove the downloaded file after processing\n",
    "\n",
    "#     # Save the combined data as a CSV file\n",
    "#     if os.path.exists('Days between Games.xlsx'):\n",
    "#         os.remove('Days between Games.xlsx')\n",
    "\n",
    "#     combined_data.to_csv(NHL_STATS_CSV_PATH, index=False)\n",
    "#     print(f\"Combined CSV saved at: {NHL_STATS_CSV_PATH}\")\n",
    "\n",
    "# finally:\n",
    "#     driver.quit()"
   ]
  },
  {
   "cell_type": "markdown",
   "id": "47b69c5f",
   "metadata": {},
   "source": [
    "### Step 5\n",
    "Scrape goalie data\n",
    "* This will scrape all pages from 0 to 56\n",
    "* Like before, will download a csv, read into a pandas df\n",
    "* combine all pages into one csv"
   ]
  },
  {
   "cell_type": "code",
   "execution_count": 57,
   "id": "b5ed128f",
   "metadata": {},
   "outputs": [],
   "source": [
    "# try:\n",
    "#     # Create csv directory if doesn't exist (will be used at the end)\n",
    "#     if not os.path.exists(NHL_GOALIE_CSV_PATH):\n",
    "#         if not os.path.exists('generated'):\n",
    "#             os.makedirs('generated', exist_ok=True)  # create 'generated' folder if needed\n",
    "        \n",
    "#         with open(NHL_GOALIE_CSV_PATH, 'w') as f:\n",
    "#             f.write(\"\")\n",
    "#             print(\"Created file:\", NHL_GOALIE_CSV_PATH)\n",
    "\n",
    "#     combined_data = pd.DataFrame()\n",
    "\n",
    "#     for page in range(0, 56):\n",
    "#         url = BASE_GOALIE_URL.format(page)\n",
    "#         driver.get(url)\n",
    "\n",
    "#         # Wait for the export link to be present and clickable\n",
    "#         export_link = WebDriverWait(driver, 20).until(\n",
    "#             EC.element_to_be_clickable((By.XPATH, '/html/body/div[1]/main/div/div/div/div[2]/div/div[2]/div/main/div[2]/h4/a'))\n",
    "#         )\n",
    "\n",
    "#         # Scroll to the element\n",
    "#         driver.execute_script(\"arguments[0].scrollIntoView(true);\", export_link)\n",
    "#         export_link.click()\n",
    "#         time.sleep(5)  # Wait for the file to download\n",
    "\n",
    "#         # Process the downloaded file\n",
    "#         downloaded_file = os.path.join(DOWNLOADS_PATH, 'Summary.xlsx')\n",
    "#         if os.path.exists(downloaded_file):\n",
    "#             data = pd.read_excel(downloaded_file)\n",
    "#             combined_data = pd.concat([combined_data, data], ignore_index=True)\n",
    "#             os.remove(downloaded_file)  # Remove the downloaded file after processing\n",
    "\n",
    "#     # Save the combined data as a CSV file\n",
    "#     if os.path.exists('Summary.xlsx'):\n",
    "#         os.remove('Summary.xlsx')\n",
    "\n",
    "#     combined_data.to_csv(NHL_GOALIE_CSV_PATH, index=False)\n",
    "#     print(f\"Combined CSV saved at: {NHL_GOALIE_CSV_PATH}\")\n",
    "\n",
    "# finally:\n",
    "#     driver.quit()"
   ]
  },
  {
   "cell_type": "markdown",
   "id": "01540584",
   "metadata": {},
   "source": [
    "### Step 6\n",
    "Filter goalie data\n",
    "* loop through every combination of date + team\n",
    "* If result has 2 or more rows, reduce to one row\n",
    "    * to do this, apply this example formula to calculate save %:\n",
    "        * team_save_percentage = (saves_ullmark + saves_forsberg) / (shots_against_ullmark + shots_against_forsberg)\n",
    "    * to decide on the name that stays, compare ice times\n",
    "* **In the end, number of rows in goalie data should match number of rows in stats data**"
   ]
  },
  {
   "cell_type": "code",
   "execution_count": 69,
   "id": "96cbc51d",
   "metadata": {},
   "outputs": [],
   "source": [
    "goalie_df = pd.read_csv('./generated/nhl_goalie_data.csv')"
   ]
  },
  {
   "cell_type": "code",
   "execution_count": 70,
   "id": "cdc94aec",
   "metadata": {},
   "outputs": [],
   "source": [
    "def toi_to_seconds(toi_str):\n",
    "    mins, secs = map(int, toi_str.split(':'))\n",
    "    return mins * 60 + secs\n",
    "\n",
    "goalie_df['TOI_seconds'] = goalie_df['TOI'].apply(toi_to_seconds)"
   ]
  },
  {
   "cell_type": "code",
   "execution_count": null,
   "id": "d6d4a39a",
   "metadata": {},
   "outputs": [],
   "source": [
    "grouped = goalie_df.groupby(['Game Date', 'Team'])\n",
    "\n",
    "# Iterate through each group\n",
    "for (game_date, team), group in grouped:\n",
    "    if group.shape[0] > 1:\n",
    "        curr_saves = group['Svs'].sum()\n",
    "        curr_shots = group['SA'].sum()\n",
    "\n",
    "        # Get goalie with most TOI\n",
    "        max_toi_row = group.loc[group['TOI_seconds'].idxmax()]\n",
    "        goalie = max_toi_row['Player']\n",
    "\n",
    "        # Drop other rows\n",
    "        goalie_df = goalie_df.drop(group.index[group['Player'] != goalie])\n",
    "\n",
    "        # Update save percentage\n",
    "        new_sv_percentage = round(curr_saves / curr_shots, 3)\n",
    "        goalie_df.loc[group.index[group['Player'] == goalie], 'Sv%'] = new_sv_percentage\n",
    "\n",
    "# Save the modified DataFrame to a new CSV file\n",
    "goalie_df.to_csv(NHL_GOALIE_CSV_PATH, index=False)"
   ]
  },
  {
   "cell_type": "markdown",
   "id": "c87ec7a0",
   "metadata": {},
   "source": [
    "#### Step 6.1\n",
    "Expand team name in goalie data to be easily combined with team name (home) in stat data"
   ]
  },
  {
   "cell_type": "code",
   "execution_count": 73,
   "id": "e0acfa79",
   "metadata": {},
   "outputs": [],
   "source": [
    "nhl_team_abbr = {\n",
    "    'ANA' : 'Anaheim Ducks',\n",
    "    'ARI' : 'Arizona Coyotes',\n",
    "    'BOS' : 'Boston Bruins',\n",
    "    'BUF' : 'Buffalo Sabres',\n",
    "    'CAR' : 'Carolina Hurricanes',\n",
    "    'CBJ' : 'Columbus Blue Jackets',\n",
    "    'CGY' : 'Calgary Flames',\n",
    "    'CHI' : 'Chicago Blackhawks',\n",
    "    'COL' : 'Colorado Avalanche',\n",
    "    'DAL' : 'Dallas Stars',\n",
    "    'DET' : 'Detroit Red Wings',\n",
    "    'EDM' : 'Edmonton Oilers',\n",
    "    'FLA' : 'Florida Panthers',\n",
    "    'LAK' : 'Los Angeles Kings',\n",
    "    'MIN' : 'Minnesota Wild',\n",
    "    'MTL' : 'Montréal Canadiens',\n",
    "    'NJD' : 'New Jersey Devils',\n",
    "    'NSH' : 'Nashville Predators',\n",
    "    'NYI' : 'New York Islanders',\n",
    "    'NYR' : 'New York Rangers',\n",
    "    'OTT' : 'Ottawa Senators',\n",
    "    'PHI' : 'Philadelphia Flyers',\n",
    "    'PIT' : 'Pittsburgh Penguins',\n",
    "    'SJS' : 'San Jose Sharks',\n",
    "    'SEA' : 'Seattle Kraken',\n",
    "    'STL' : 'St. Louis Blues',\n",
    "    'TBL' : 'Tampa Bay Lightning',\n",
    "    'TOR' : 'Toronto Maple Leafs',\n",
    "    'UTA' : 'Utah Hockey Club',\n",
    "    'VAN' : 'Vancouver Canucks',\n",
    "    'VGK' : 'Vegas Golden Knights',\n",
    "    'WPG' : 'Winnipeg Jets',\n",
    "    'WSH' : 'Washington Capitals',\n",
    "    'ARI' : 'Utah Hockey Club'\n",
    "}"
   ]
  },
  {
   "cell_type": "code",
   "execution_count": 74,
   "id": "08f93b0c",
   "metadata": {},
   "outputs": [],
   "source": [
    "goalie_df = pd.read_csv('./generated/nhl_goalie_data.csv')"
   ]
  },
  {
   "cell_type": "code",
   "execution_count": 75,
   "id": "6b81aa37",
   "metadata": {},
   "outputs": [],
   "source": [
    "goalie_df['Team'] = goalie_df['Team'].apply(lambda abbr: nhl_team_abbr.get(abbr, abbr))\n",
    "goalie_df.to_csv(NHL_GOALIE_CSV_PATH, index=False)"
   ]
  },
  {
   "cell_type": "markdown",
   "id": "dbaa950f",
   "metadata": {},
   "source": [
    "### Step 7\n",
    "Combine **goalie data (name, sv%)** with **stats data** based on data and home team name\n",
    "* Create a final csv file called 'final_nhl_stats.csv'"
   ]
  },
  {
   "cell_type": "code",
   "execution_count": 79,
   "id": "182b317b",
   "metadata": {},
   "outputs": [],
   "source": [
    "stats_df = pd.read_csv('./generated/nhl_stats_data.csv')\n",
    "goalie_df = pd.read_csv('./generated/nhl_goalie_data.csv')"
   ]
  },
  {
   "cell_type": "code",
   "execution_count": 80,
   "id": "c477b234",
   "metadata": {},
   "outputs": [],
   "source": [
    "goalie_subset = goalie_df[['Game Date', 'Team', 'Player', 'Sv%']]\n",
    "\n",
    "final_nhl_stats_df = pd.merge(stats_df, goalie_subset, on=['Game Date', 'Team'], how='left')\n",
    "\n",
    "final_nhl_stats_df = final_nhl_stats_df.rename(columns={'Player': 'Goalie'})\n",
    "\n",
    "final_nhl_stats_df.to_csv(COMBINED_CSV_PATH, index=False)"
   ]
  }
 ],
 "metadata": {
  "kernelspec": {
   "display_name": "nhl_venv",
   "language": "python",
   "name": "python3"
  },
  "language_info": {
   "codemirror_mode": {
    "name": "ipython",
    "version": 3
   },
   "file_extension": ".py",
   "mimetype": "text/x-python",
   "name": "python",
   "nbconvert_exporter": "python",
   "pygments_lexer": "ipython3",
   "version": "3.11.4"
  }
 },
 "nbformat": 4,
 "nbformat_minor": 5
}
